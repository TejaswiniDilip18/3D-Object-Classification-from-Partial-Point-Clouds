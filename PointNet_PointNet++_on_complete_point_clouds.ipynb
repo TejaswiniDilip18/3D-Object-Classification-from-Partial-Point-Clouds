{
  "nbformat": 4,
  "nbformat_minor": 0,
  "metadata": {
    "colab": {
      "provenance": []
    },
    "kernelspec": {
      "name": "python3",
      "display_name": "Python 3"
    },
    "language_info": {
      "name": "python"
    },
    "accelerator": "GPU",
    "gpuClass": "standard"
  },
  "cells": [
    {
      "cell_type": "code",
      "source": [
        "!rm -r /content/data"
      ],
      "metadata": {
        "id": "I0cbkW64Spoc",
        "colab": {
          "base_uri": "https://localhost:8080/"
        },
        "outputId": "1894987a-3804-4f7b-8289-ffe8c5c192d4"
      },
      "execution_count": null,
      "outputs": [
        {
          "output_type": "stream",
          "name": "stdout",
          "text": [
            "rm: cannot remove '/content/data': No such file or directory\n"
          ]
        }
      ]
    },
    {
      "cell_type": "code",
      "execution_count": null,
      "metadata": {
        "colab": {
          "base_uri": "https://localhost:8080/"
        },
        "id": "kcvk0IVyWuGz",
        "outputId": "a50eb48a-8025-4ccb-bbdc-1e9ace232e5f"
      },
      "outputs": [
        {
          "output_type": "stream",
          "name": "stdout",
          "text": [
            "Cloning into 'Pointnet_Pointnet2_pytorch'...\n",
            "remote: Enumerating objects: 842, done.\u001b[K\n",
            "remote: Counting objects: 100% (16/16), done.\u001b[K\n",
            "remote: Compressing objects: 100% (11/11), done.\u001b[K\n",
            "remote: Total 842 (delta 7), reused 11 (delta 5), pack-reused 826\u001b[K\n",
            "Receiving objects: 100% (842/842), 68.77 MiB | 14.07 MiB/s, done.\n",
            "Resolving deltas: 100% (485/485), done.\n",
            "Updating files: 100% (59/59), done.\n"
          ]
        }
      ],
      "source": [
        "# Clone Repo\n",
        "!git clone https://github.com/yanx27/Pointnet_Pointnet2_pytorch.git"
      ]
    },
    {
      "cell_type": "code",
      "source": [
        "!mv /content/Pointnet_Pointnet2_pytorch/* /content"
      ],
      "metadata": {
        "id": "mKUU2ckLXurp"
      },
      "execution_count": null,
      "outputs": []
    },
    {
      "cell_type": "code",
      "source": [
        "from google.colab import drive\n",
        "drive.mount('/content/drive')"
      ],
      "metadata": {
        "colab": {
          "base_uri": "https://localhost:8080/"
        },
        "id": "37_iGOJGN6rV",
        "outputId": "c9d13dd7-2b61-41ee-b4b8-e9f388e753f1"
      },
      "execution_count": null,
      "outputs": [
        {
          "output_type": "stream",
          "name": "stdout",
          "text": [
            "Mounted at /content/drive\n"
          ]
        }
      ]
    },
    {
      "cell_type": "code",
      "source": [
        "!ln -s /content/gdrive/My\\ Drive/ /mydrive\n",
        "!ls /mydrive"
      ],
      "metadata": {
        "colab": {
          "base_uri": "https://localhost:8080/"
        },
        "id": "fv00a616OFsh",
        "outputId": "a1b403c4-3548-4ff1-9040-e56990857f94"
      },
      "execution_count": null,
      "outputs": [
        {
          "output_type": "stream",
          "name": "stdout",
          "text": [
            "/mydrive\n"
          ]
        }
      ]
    },
    {
      "cell_type": "code",
      "source": [
        "# To test and train on complete point cloud of Derived Dataset\n",
        "!cp -r /content/drive/MyDrive/shapenet_PN2.zip /content/"
      ],
      "metadata": {
        "id": "lRjyDu5bkczO"
      },
      "execution_count": null,
      "outputs": []
    },
    {
      "cell_type": "code",
      "source": [
        "!mkdir data"
      ],
      "metadata": {
        "id": "uM1fXH38dGqs"
      },
      "execution_count": null,
      "outputs": []
    },
    {
      "cell_type": "code",
      "source": [
        "!unzip -d /content/data /content/shapenet_PN2.zip"
      ],
      "metadata": {
        "id": "utt82_6KiSEj"
      },
      "execution_count": null,
      "outputs": []
    },
    {
      "cell_type": "code",
      "source": [
        "import os\n",
        "old_name = r\"/content/data/shapenet_PN2\"\n",
        "new_name = r\"/content/data/modelnet40_normal_resampled\"\n",
        "os.rename(old_name, new_name)"
      ],
      "metadata": {
        "id": "FLLR6r8-3o9k"
      },
      "execution_count": null,
      "outputs": []
    },
    {
      "cell_type": "code",
      "source": [
        "# # To test and train on ModelNet10 dataset instead of Derived Dataset\n",
        "# !wget --no-check-certificate 'https://shapenet.cs.stanford.edu/media/modelnet40_normal_resampled.zip'"
      ],
      "metadata": {
        "id": "OBHNJKLka7c2"
      },
      "execution_count": null,
      "outputs": []
    },
    {
      "cell_type": "code",
      "source": [
        "# # To test and train on ModelNet10 dataset instead of Derived Dataset\n",
        "# !unzip -d /content/data /content/modelnet40_normal_resampled.zip"
      ],
      "metadata": {
        "id": "FOugZkllbJF3"
      },
      "execution_count": null,
      "outputs": []
    },
    {
      "cell_type": "code",
      "source": [
        "# remove 'train_classification.py' and 'test_classification.py' provided by the Authors of PointNet++.\n",
        "!rm '/content/train_classification.py'\n",
        "!rm '/content/test_classification.py'\n",
        "\n",
        "# then upload 'train_classification.py' and 'test_classification.py' provided in our Github to /content/ folder."
      ],
      "metadata": {
        "colab": {
          "base_uri": "https://localhost:8080/"
        },
        "id": "n_Q0QUFi42ju",
        "outputId": "1a607775-9dbb-483a-c4b9-5157bbb66d18"
      },
      "execution_count": null,
      "outputs": [
        {
          "output_type": "stream",
          "name": "stdout",
          "text": [
            "rm: cannot remove '/content/train_classification.py': No such file or directory\n",
            "rm: cannot remove '/content/test_classification.py': No such file or directory\n"
          ]
        }
      ]
    },
    {
      "cell_type": "code",
      "source": [
        "# remove 'ModelNetDataLoader.py' provided by the Authors of PointNet++\n",
        "!rm '/content/data_utils/ModelNetDataLoader.py'\n",
        "\n",
        "# then upload 'ModelNetDataLoader.py' provided in our Github to /content/ folder."
      ],
      "metadata": {
        "id": "clEtkHg36F-r"
      },
      "execution_count": null,
      "outputs": []
    },
    {
      "cell_type": "code",
      "source": [
        "!mv \"/content/ModelNetDataLoader.py\" \"/content/data_utils\""
      ],
      "metadata": {
        "id": "8rqKLosn8C4P"
      },
      "execution_count": null,
      "outputs": []
    },
    {
      "cell_type": "code",
      "source": [
        "# For PointNet++\n",
        "!python train_classification.py --model pointnet2_cls_ssg --log_dir pointnet2_cls_ssg --num_category 10 --epoch 15"
      ],
      "metadata": {
        "id": "rCWYRDPncSGu"
      },
      "execution_count": null,
      "outputs": []
    },
    {
      "cell_type": "code",
      "source": [
        "# # For PointNet\n",
        "# !python train_classification.py --model pointnet_cls --log_dir pointnet_cls --num_category 10 --epoch 15"
      ],
      "metadata": {
        "id": "nkPGKFH4CC0g"
      },
      "execution_count": null,
      "outputs": []
    },
    {
      "cell_type": "code",
      "source": [
        "import matplotlib.pyplot as plt\n",
        "import numpy as np\n",
        "\n",
        "# Load instance_accuracy and class_accuracy from the text files\n",
        "instance_accuracy = np.loadtxt('/content/instance_accuracy.txt')\n",
        "class_accuracy = np.loadtxt('/content/class_accuracy.txt')\n",
        "\n",
        "# Plot the instance accuracy and class accuracy\n",
        "plt.plot(instance_accuracy*100, label='Instance Accuracy')\n",
        "plt.plot(class_accuracy*100, label='Class Accuracy')\n",
        "plt.xlabel('Epoch')\n",
        "plt.ylabel('Accuracy')\n",
        "plt.legend()\n",
        "plt.show()"
      ],
      "metadata": {
        "id": "F26ZegZbYNWC"
      },
      "execution_count": null,
      "outputs": []
    },
    {
      "cell_type": "code",
      "source": [
        "import matplotlib.pyplot as plt\n",
        "\n",
        "# Load train_acc from the text file\n",
        "train_acc = np.loadtxt('train_acc.txt')\n",
        "\n",
        "# Plot the training accuracy\n",
        "plt.plot(train_acc*100)\n",
        "plt.xlabel('Epoch')\n",
        "plt.ylabel('Training Accuracy')\n",
        "plt.show()"
      ],
      "metadata": {
        "id": "9raj2_Y1ZC6L"
      },
      "execution_count": null,
      "outputs": []
    },
    {
      "cell_type": "code",
      "source": [
        "# For testing using PointNet++\n",
        "!python test_classification.py --log_dir pointnet2_cls_ssg --num_category 10"
      ],
      "metadata": {
        "id": "PHwGzXr9vat4"
      },
      "execution_count": null,
      "outputs": []
    },
    {
      "cell_type": "code",
      "source": [
        "# # For testing using PointNet\n",
        "# !python test_classification.py --log_dir pointnet_cls --num_category 10"
      ],
      "metadata": {
        "id": "3-f9QKTCCdj_"
      },
      "execution_count": null,
      "outputs": []
    },
    {
      "cell_type": "code",
      "source": [
        "confusion_matrix_data = np.loadtxt('confusion_matrix.txt', delimiter=' ')\n",
        "\n",
        "# convert to numpy array\n",
        "confusion_matrix = np.array(confusion_matrix_data)\n",
        "\n",
        "print(confusion_matrix)"
      ],
      "metadata": {
        "id": "THUW5nIH0NsZ"
      },
      "execution_count": null,
      "outputs": []
    },
    {
      "cell_type": "code",
      "source": [
        "!pip install path.py;\n",
        "from path import Path"
      ],
      "metadata": {
        "colab": {
          "base_uri": "https://localhost:8080/"
        },
        "id": "KBC-q2bxk_sn",
        "outputId": "2f86f23c-ec41-4841-a4b3-0385ab6486b7"
      },
      "execution_count": null,
      "outputs": [
        {
          "output_type": "stream",
          "name": "stdout",
          "text": [
            "Looking in indexes: https://pypi.org/simple, https://us-python.pkg.dev/colab-wheels/public/simple/\n",
            "Collecting path.py\n",
            "  Downloading path.py-12.5.0-py3-none-any.whl (2.3 kB)\n",
            "Collecting path\n",
            "  Downloading path-16.6.0-py3-none-any.whl (26 kB)\n",
            "Installing collected packages: path, path.py\n",
            "Successfully installed path-16.6.0 path.py-12.5.0\n"
          ]
        }
      ]
    },
    {
      "cell_type": "code",
      "source": [
        "%cd /content"
      ],
      "metadata": {
        "colab": {
          "base_uri": "https://localhost:8080/"
        },
        "id": "WRZXWC0Ykw6u",
        "outputId": "68804d39-e034-4929-eee3-ab58fa189be6"
      },
      "execution_count": null,
      "outputs": [
        {
          "output_type": "stream",
          "name": "stdout",
          "text": [
            "/content\n"
          ]
        }
      ]
    },
    {
      "cell_type": "code",
      "source": [
        "path = Path(\"data/modelnet40_normal_resampled\")\n",
        "print(path)"
      ],
      "metadata": {
        "colab": {
          "base_uri": "https://localhost:8080/"
        },
        "id": "ssTuwANHlTwI",
        "outputId": "8b92e91d-be16-40cc-efc9-4b2db827088c"
      },
      "execution_count": null,
      "outputs": [
        {
          "output_type": "stream",
          "name": "stdout",
          "text": [
            "data/modelnet40_normal_resampled\n"
          ]
        }
      ]
    },
    {
      "cell_type": "code",
      "source": [
        "import os"
      ],
      "metadata": {
        "id": "axq1uFn2vqxx"
      },
      "execution_count": null,
      "outputs": []
    },
    {
      "cell_type": "code",
      "source": [
        "folders = [dir for dir in sorted(os.listdir(path)) if os.path.isdir(path/dir)]\n",
        "classes = {folder: i for i, folder in enumerate(folders)};\n",
        "classes\n",
        "\n"
      ],
      "metadata": {
        "colab": {
          "base_uri": "https://localhost:8080/"
        },
        "id": "WUuEr7GpldsK",
        "outputId": "b9e58b09-ea0f-4b4a-ac1f-f96095d58a89"
      },
      "execution_count": null,
      "outputs": [
        {
          "output_type": "execute_result",
          "data": {
            "text/plain": [
              "{'bathtub': 0,\n",
              " 'bed': 1,\n",
              " 'cabinet': 2,\n",
              " 'car': 3,\n",
              " 'chair': 4,\n",
              " 'lamp': 5,\n",
              " 'plane': 6,\n",
              " 'sofa': 7,\n",
              " 'table': 8,\n",
              " 'watercraft': 9}"
            ]
          },
          "metadata": {},
          "execution_count": 36
        }
      ]
    },
    {
      "cell_type": "code",
      "source": [
        "# # For ModelNet10, define the classes as follows\n",
        "# # define the category map\n",
        "# classes = {\n",
        "#     'Bathtub': '0',\n",
        "#     'Bed': '1',\n",
        "#     'Chair': '2',\n",
        "#     'Desk': '3',\n",
        "#     'Dresser': '4',\n",
        "#     'Monitor':'5',\n",
        "#     'Night_Stand':'6',\n",
        "#     'Sofa':'7',\n",
        "#     'Table':'8',\n",
        "#     'Toilet':'9'\n",
        "# }"
      ],
      "metadata": {
        "id": "3HZNktknGK-_"
      },
      "execution_count": null,
      "outputs": []
    },
    {
      "cell_type": "code",
      "source": [
        "import itertools\n",
        "import numpy as np\n",
        "import matplotlib.pyplot as plt\n",
        "\n",
        "# function from https://deeplizard.com/learn/video/0LhiS6yu2qQ\n",
        "def plot_confusion_matrix(cm, classes, normalize=False, title='Confusion matrix', cmap=plt.cm.Blues):\n",
        "    if normalize:\n",
        "        cm = cm.astype('float') / cm.sum(axis=1)[:, np.newaxis]\n",
        "        print(\"Normalized confusion matrix\")\n",
        "    else:\n",
        "        print('Confusion matrix, without normalization')\n",
        "\n",
        "    plt.imshow(cm, interpolation='nearest', cmap=cmap)\n",
        "    plt.title(title)\n",
        "    plt.colorbar()\n",
        "    tick_marks = np.arange(len(classes))\n",
        "    plt.xticks(tick_marks, classes, rotation=45)\n",
        "    plt.yticks(tick_marks, classes)\n",
        "\n",
        "    fmt = '.2f' if normalize else '.0f'\n",
        "    thresh = cm.max() / 2.\n",
        "    for i, j in itertools.product(range(cm.shape[0]), range(cm.shape[1])):\n",
        "        plt.text(j, i, format(cm[i, j], fmt), horizontalalignment=\"center\", color=\"white\" if cm[i, j] > thresh else \"black\")\n",
        "\n",
        "    plt.tight_layout()\n",
        "    plt.ylabel('True label')\n",
        "    plt.xlabel('Predicted label')"
      ],
      "metadata": {
        "id": "B8cW4laEv_wT"
      },
      "execution_count": null,
      "outputs": []
    },
    {
      "cell_type": "code",
      "source": [
        "plt.figure(figsize=(8,8))\n",
        "plot_confusion_matrix(confusion_matrix,classes , normalize=True)"
      ],
      "metadata": {
        "id": "GkiQtdWcwLQS"
      },
      "execution_count": null,
      "outputs": []
    },
    {
      "cell_type": "code",
      "source": [
        "plt.figure(figsize=(8,8))\n",
        "plot_confusion_matrix(confusion_matrix,classes, normalize=False)"
      ],
      "metadata": {
        "id": "W9Ykkkv01V4w"
      },
      "execution_count": null,
      "outputs": []
    }
  ]
}